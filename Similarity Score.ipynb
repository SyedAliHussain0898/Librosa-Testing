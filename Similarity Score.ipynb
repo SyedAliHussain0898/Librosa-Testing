{
 "cells": [
  {
   "cell_type": "code",
   "execution_count": 18,
   "metadata": {},
   "outputs": [
    {
     "name": "stdout",
     "output_type": "stream",
     "text": [
      "{'/Users/syedhussain/Documents/Librosa/audio/Ludwig_van_Beethoven_-_Symphonie_5_c-moll_-_1._Allegro_con_brio.ogg': 100.0, '/Users/syedhussain/Documents/Librosa/audio/sir_duke_slow.ogg': 2.8574608615006216e-05}\n"
     ]
    }
   ],
   "source": [
    "import librosa\n",
    "import numpy as np\n",
    "from scipy.spatial.distance import euclidean\n",
    "from fastdtw import fastdtw\n",
    "\n",
    "def extract_features(audio_path):\n",
    "    \"\"\"\n",
    "    Extracts MFCC features from an audio file.\n",
    "    \"\"\"\n",
    "    y, sr = librosa.load(audio_path)\n",
    "    mfcc = librosa.feature.mfcc(y=y, sr=sr)\n",
    "    return mfcc\n",
    "\n",
    "def compare_audio(control_file, student_file):\n",
    "    \"\"\"\n",
    "    Compares two audio files based on their MFCC features and calculates similarity score.\n",
    "    \"\"\"\n",
    "    control_features = extract_features(control_file)\n",
    "    student_features = extract_features(student_file)\n",
    "    \n",
    "    # Using Dynamic Time Warping (DTW) to find similarity\n",
    "    distance, path = fastdtw(control_features.T, student_features.T, dist=euclidean)\n",
    "    \n",
    "    # Normalize the distance to get a similarity score, lower distance means higher similarity\n",
    "    similarity_score = (1 / (1 + distance)) * 100  # Simple normalization to get a score between 0 and 100\n",
    "    return similarity_score\n",
    "\n",
    "# Example usage\n",
    "control_file = \"/Users/syedhussain/Documents/Librosa/audio/Ludwig_van_Beethoven_-_Symphonie_5_c-moll_-_1._Allegro_con_brio.ogg\"\n",
    "student_files = [\"/Users/syedhussain/Documents/Librosa/audio/Ludwig_van_Beethoven_-_Symphonie_5_c-moll_-_1._Allegro_con_brio.ogg\", \"/Users/syedhussain/Documents/Librosa/audio/sir_duke_slow.ogg\"]\n",
    "\n",
    "scores = {}\n",
    "for student_file in student_files:\n",
    "    score = compare_audio(control_file, student_file)\n",
    "    scores[student_file] = score\n",
    "\n",
    "print(scores)\n"
   ]
  }
 ],
 "metadata": {
  "kernelspec": {
   "display_name": "base",
   "language": "python",
   "name": "python3"
  },
  "language_info": {
   "codemirror_mode": {
    "name": "ipython",
    "version": 3
   },
   "file_extension": ".py",
   "mimetype": "text/x-python",
   "name": "python",
   "nbconvert_exporter": "python",
   "pygments_lexer": "ipython3",
   "version": "3.11.5"
  }
 },
 "nbformat": 4,
 "nbformat_minor": 2
}
